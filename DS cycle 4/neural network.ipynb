{
 "cells": [
  {
   "cell_type": "code",
   "execution_count": 2,
   "id": "9c602e70",
   "metadata": {},
   "outputs": [],
   "source": [
    "import tensorflow as tf\n",
    "import keras\n",
    "import pandas\n",
    "import sklearn\n",
    "import matplotlib\n",
    "import pandas as pd\n",
    "\n"
   ]
  },
  {
   "cell_type": "code",
   "execution_count": 3,
   "id": "b0d8abab",
   "metadata": {},
   "outputs": [
    {
     "data": {
      "text/html": [
       "<div>\n",
       "<style scoped>\n",
       "    .dataframe tbody tr th:only-of-type {\n",
       "        vertical-align: middle;\n",
       "    }\n",
       "\n",
       "    .dataframe tbody tr th {\n",
       "        vertical-align: top;\n",
       "    }\n",
       "\n",
       "    .dataframe thead th {\n",
       "        text-align: right;\n",
       "    }\n",
       "</style>\n",
       "<table border=\"1\" class=\"dataframe\">\n",
       "  <thead>\n",
       "    <tr style=\"text-align: right;\">\n",
       "      <th></th>\n",
       "      <th>LotArea</th>\n",
       "      <th>OverallQual</th>\n",
       "      <th>OverallCond</th>\n",
       "      <th>TotalBsmtSF</th>\n",
       "      <th>FullBath</th>\n",
       "      <th>HalfBath</th>\n",
       "      <th>BedroomAbvGr</th>\n",
       "      <th>TotRmsAbvGrd</th>\n",
       "      <th>Fireplaces</th>\n",
       "      <th>GarageArea</th>\n",
       "      <th>AboveMedianPrice</th>\n",
       "    </tr>\n",
       "  </thead>\n",
       "  <tbody>\n",
       "    <tr>\n",
       "      <th>0</th>\n",
       "      <td>8450</td>\n",
       "      <td>7</td>\n",
       "      <td>5</td>\n",
       "      <td>856</td>\n",
       "      <td>2</td>\n",
       "      <td>1</td>\n",
       "      <td>3</td>\n",
       "      <td>8</td>\n",
       "      <td>0</td>\n",
       "      <td>548</td>\n",
       "      <td>1</td>\n",
       "    </tr>\n",
       "    <tr>\n",
       "      <th>1</th>\n",
       "      <td>9600</td>\n",
       "      <td>6</td>\n",
       "      <td>8</td>\n",
       "      <td>1262</td>\n",
       "      <td>2</td>\n",
       "      <td>0</td>\n",
       "      <td>3</td>\n",
       "      <td>6</td>\n",
       "      <td>1</td>\n",
       "      <td>460</td>\n",
       "      <td>1</td>\n",
       "    </tr>\n",
       "    <tr>\n",
       "      <th>2</th>\n",
       "      <td>11250</td>\n",
       "      <td>7</td>\n",
       "      <td>5</td>\n",
       "      <td>920</td>\n",
       "      <td>2</td>\n",
       "      <td>1</td>\n",
       "      <td>3</td>\n",
       "      <td>6</td>\n",
       "      <td>1</td>\n",
       "      <td>608</td>\n",
       "      <td>1</td>\n",
       "    </tr>\n",
       "    <tr>\n",
       "      <th>3</th>\n",
       "      <td>9550</td>\n",
       "      <td>7</td>\n",
       "      <td>5</td>\n",
       "      <td>756</td>\n",
       "      <td>1</td>\n",
       "      <td>0</td>\n",
       "      <td>3</td>\n",
       "      <td>7</td>\n",
       "      <td>1</td>\n",
       "      <td>642</td>\n",
       "      <td>0</td>\n",
       "    </tr>\n",
       "    <tr>\n",
       "      <th>4</th>\n",
       "      <td>14260</td>\n",
       "      <td>8</td>\n",
       "      <td>5</td>\n",
       "      <td>1145</td>\n",
       "      <td>2</td>\n",
       "      <td>1</td>\n",
       "      <td>4</td>\n",
       "      <td>9</td>\n",
       "      <td>1</td>\n",
       "      <td>836</td>\n",
       "      <td>1</td>\n",
       "    </tr>\n",
       "    <tr>\n",
       "      <th>...</th>\n",
       "      <td>...</td>\n",
       "      <td>...</td>\n",
       "      <td>...</td>\n",
       "      <td>...</td>\n",
       "      <td>...</td>\n",
       "      <td>...</td>\n",
       "      <td>...</td>\n",
       "      <td>...</td>\n",
       "      <td>...</td>\n",
       "      <td>...</td>\n",
       "      <td>...</td>\n",
       "    </tr>\n",
       "    <tr>\n",
       "      <th>1455</th>\n",
       "      <td>7917</td>\n",
       "      <td>6</td>\n",
       "      <td>5</td>\n",
       "      <td>953</td>\n",
       "      <td>2</td>\n",
       "      <td>1</td>\n",
       "      <td>3</td>\n",
       "      <td>7</td>\n",
       "      <td>1</td>\n",
       "      <td>460</td>\n",
       "      <td>1</td>\n",
       "    </tr>\n",
       "    <tr>\n",
       "      <th>1456</th>\n",
       "      <td>13175</td>\n",
       "      <td>6</td>\n",
       "      <td>6</td>\n",
       "      <td>1542</td>\n",
       "      <td>2</td>\n",
       "      <td>0</td>\n",
       "      <td>3</td>\n",
       "      <td>7</td>\n",
       "      <td>2</td>\n",
       "      <td>500</td>\n",
       "      <td>1</td>\n",
       "    </tr>\n",
       "    <tr>\n",
       "      <th>1457</th>\n",
       "      <td>9042</td>\n",
       "      <td>7</td>\n",
       "      <td>9</td>\n",
       "      <td>1152</td>\n",
       "      <td>2</td>\n",
       "      <td>0</td>\n",
       "      <td>4</td>\n",
       "      <td>9</td>\n",
       "      <td>2</td>\n",
       "      <td>252</td>\n",
       "      <td>1</td>\n",
       "    </tr>\n",
       "    <tr>\n",
       "      <th>1458</th>\n",
       "      <td>9717</td>\n",
       "      <td>5</td>\n",
       "      <td>6</td>\n",
       "      <td>1078</td>\n",
       "      <td>1</td>\n",
       "      <td>0</td>\n",
       "      <td>2</td>\n",
       "      <td>5</td>\n",
       "      <td>0</td>\n",
       "      <td>240</td>\n",
       "      <td>0</td>\n",
       "    </tr>\n",
       "    <tr>\n",
       "      <th>1459</th>\n",
       "      <td>9937</td>\n",
       "      <td>5</td>\n",
       "      <td>6</td>\n",
       "      <td>1256</td>\n",
       "      <td>1</td>\n",
       "      <td>1</td>\n",
       "      <td>3</td>\n",
       "      <td>6</td>\n",
       "      <td>0</td>\n",
       "      <td>276</td>\n",
       "      <td>0</td>\n",
       "    </tr>\n",
       "  </tbody>\n",
       "</table>\n",
       "<p>1460 rows × 11 columns</p>\n",
       "</div>"
      ],
      "text/plain": [
       "      LotArea  OverallQual  OverallCond  TotalBsmtSF  FullBath  HalfBath  \\\n",
       "0        8450            7            5          856         2         1   \n",
       "1        9600            6            8         1262         2         0   \n",
       "2       11250            7            5          920         2         1   \n",
       "3        9550            7            5          756         1         0   \n",
       "4       14260            8            5         1145         2         1   \n",
       "...       ...          ...          ...          ...       ...       ...   \n",
       "1455     7917            6            5          953         2         1   \n",
       "1456    13175            6            6         1542         2         0   \n",
       "1457     9042            7            9         1152         2         0   \n",
       "1458     9717            5            6         1078         1         0   \n",
       "1459     9937            5            6         1256         1         1   \n",
       "\n",
       "      BedroomAbvGr  TotRmsAbvGrd  Fireplaces  GarageArea  AboveMedianPrice  \n",
       "0                3             8           0         548                 1  \n",
       "1                3             6           1         460                 1  \n",
       "2                3             6           1         608                 1  \n",
       "3                3             7           1         642                 0  \n",
       "4                4             9           1         836                 1  \n",
       "...            ...           ...         ...         ...               ...  \n",
       "1455             3             7           1         460                 1  \n",
       "1456             3             7           2         500                 1  \n",
       "1457             4             9           2         252                 1  \n",
       "1458             2             5           0         240                 0  \n",
       "1459             3             6           0         276                 0  \n",
       "\n",
       "[1460 rows x 11 columns]"
      ]
     },
     "execution_count": 3,
     "metadata": {},
     "output_type": "execute_result"
    }
   ],
   "source": [
    "df = pd.read_csv('housepricedata.csv')\n",
    "df"
   ]
  },
  {
   "cell_type": "code",
   "execution_count": 4,
   "id": "bbb40778",
   "metadata": {},
   "outputs": [
    {
     "data": {
      "text/plain": [
       "array([[ 8450,     7,     5, ...,     0,   548,     1],\n",
       "       [ 9600,     6,     8, ...,     1,   460,     1],\n",
       "       [11250,     7,     5, ...,     1,   608,     1],\n",
       "       ...,\n",
       "       [ 9042,     7,     9, ...,     2,   252,     1],\n",
       "       [ 9717,     5,     6, ...,     0,   240,     0],\n",
       "       [ 9937,     5,     6, ...,     0,   276,     0]])"
      ]
     },
     "execution_count": 4,
     "metadata": {},
     "output_type": "execute_result"
    }
   ],
   "source": [
    "dataset = df.values\n",
    "dataset"
   ]
  },
  {
   "cell_type": "code",
   "execution_count": 5,
   "id": "a1b2335f",
   "metadata": {},
   "outputs": [],
   "source": [
    "X = dataset[:,0:10]\n",
    "Y = dataset[:,10]"
   ]
  },
  {
   "cell_type": "code",
   "execution_count": 6,
   "id": "69c6c4fb",
   "metadata": {},
   "outputs": [
    {
     "data": {
      "text/plain": [
       "array([[0.0334198 , 0.66666667, 0.5       , ..., 0.5       , 0.        ,\n",
       "        0.3864598 ],\n",
       "       [0.03879502, 0.55555556, 0.875     , ..., 0.33333333, 0.33333333,\n",
       "        0.32440056],\n",
       "       [0.04650728, 0.66666667, 0.5       , ..., 0.33333333, 0.33333333,\n",
       "        0.42877292],\n",
       "       ...,\n",
       "       [0.03618687, 0.66666667, 1.        , ..., 0.58333333, 0.66666667,\n",
       "        0.17771509],\n",
       "       [0.03934189, 0.44444444, 0.625     , ..., 0.25      , 0.        ,\n",
       "        0.16925247],\n",
       "       [0.04037019, 0.44444444, 0.625     , ..., 0.33333333, 0.        ,\n",
       "        0.19464034]])"
      ]
     },
     "execution_count": 6,
     "metadata": {},
     "output_type": "execute_result"
    }
   ],
   "source": [
    "from sklearn import preprocessing\n",
    "min_max_scaler = preprocessing.MinMaxScaler()\n",
    "X_scale = min_max_scaler.fit_transform(X)\n",
    "X_scale"
   ]
  },
  {
   "cell_type": "code",
   "execution_count": 7,
   "id": "bd5048bb",
   "metadata": {},
   "outputs": [
    {
     "name": "stdout",
     "output_type": "stream",
     "text": [
      "(1022, 10) (219, 10) (219, 10) (1022,) (219,) (219,)\n"
     ]
    }
   ],
   "source": [
    "from sklearn.model_selection import train_test_split\n",
    "X_train, X_val_and_test, Y_train, Y_val_and_test = train_test_split(X_scale, Y, test_size=0.3)\n",
    "X_val, X_test, Y_val, Y_test = train_test_split(X_val_and_test, Y_val_and_test, test_size=0.5)\n",
    "print(X_train.shape, X_val.shape, X_test.shape, Y_train.shape, Y_val.shape, Y_test.shape)"
   ]
  },
  {
   "cell_type": "code",
   "execution_count": 8,
   "id": "f4a6a61a",
   "metadata": {},
   "outputs": [],
   "source": [
    "from keras.models import Sequential\n",
    "from keras.layers import Dense"
   ]
  },
  {
   "cell_type": "code",
   "execution_count": 10,
   "id": "f8f616c4",
   "metadata": {},
   "outputs": [],
   "source": [
    "model = Sequential([\n",
    "    Dense(32, activation='relu', input_shape=(10,)),\n",
    "    Dense(32, activation='relu'),\n",
    "    Dense(1, activation='sigmoid'),\n",
    "])\n"
   ]
  },
  {
   "cell_type": "code",
   "execution_count": 11,
   "id": "ff0b5584",
   "metadata": {},
   "outputs": [],
   "source": [
    "model.compile(optimizer='sgd',\n",
    "              loss='binary_crossentropy',\n",
    "              metrics=['accuracy'])"
   ]
  },
  {
   "cell_type": "code",
   "execution_count": 12,
   "id": "c53e3367",
   "metadata": {},
   "outputs": [
    {
     "name": "stdout",
     "output_type": "stream",
     "text": [
      "Epoch 1/100\n",
      "32/32 [==============================] - 0s 4ms/step - loss: 0.6884 - accuracy: 0.4843 - val_loss: 0.6684 - val_accuracy: 0.5708\n",
      "Epoch 2/100\n",
      "32/32 [==============================] - 0s 2ms/step - loss: 0.6807 - accuracy: 0.4912 - val_loss: 0.6647 - val_accuracy: 0.5753\n",
      "Epoch 3/100\n",
      "32/32 [==============================] - 0s 2ms/step - loss: 0.6747 - accuracy: 0.5049 - val_loss: 0.6609 - val_accuracy: 0.6027\n",
      "Epoch 4/100\n",
      "32/32 [==============================] - 0s 2ms/step - loss: 0.6692 - accuracy: 0.5656 - val_loss: 0.6563 - val_accuracy: 0.6575\n",
      "Epoch 5/100\n",
      "32/32 [==============================] - 0s 2ms/step - loss: 0.6638 - accuracy: 0.5998 - val_loss: 0.6515 - val_accuracy: 0.7169\n",
      "Epoch 6/100\n",
      "32/32 [==============================] - 0s 2ms/step - loss: 0.6580 - accuracy: 0.7016 - val_loss: 0.6457 - val_accuracy: 0.7580\n",
      "Epoch 7/100\n",
      "32/32 [==============================] - 0s 2ms/step - loss: 0.6521 - accuracy: 0.7270 - val_loss: 0.6397 - val_accuracy: 0.8037\n",
      "Epoch 8/100\n",
      "32/32 [==============================] - 0s 2ms/step - loss: 0.6459 - accuracy: 0.7701 - val_loss: 0.6330 - val_accuracy: 0.8082\n",
      "Epoch 9/100\n",
      "32/32 [==============================] - 0s 2ms/step - loss: 0.6396 - accuracy: 0.7730 - val_loss: 0.6266 - val_accuracy: 0.8174\n",
      "Epoch 10/100\n",
      "32/32 [==============================] - 0s 2ms/step - loss: 0.6332 - accuracy: 0.7789 - val_loss: 0.6202 - val_accuracy: 0.8356\n",
      "Epoch 11/100\n",
      "32/32 [==============================] - 0s 2ms/step - loss: 0.6266 - accuracy: 0.8063 - val_loss: 0.6130 - val_accuracy: 0.8402\n",
      "Epoch 12/100\n",
      "32/32 [==============================] - 0s 2ms/step - loss: 0.6194 - accuracy: 0.8131 - val_loss: 0.6056 - val_accuracy: 0.8493\n",
      "Epoch 13/100\n",
      "32/32 [==============================] - 0s 2ms/step - loss: 0.6122 - accuracy: 0.8151 - val_loss: 0.5975 - val_accuracy: 0.8493\n",
      "Epoch 14/100\n",
      "32/32 [==============================] - 0s 2ms/step - loss: 0.6043 - accuracy: 0.8239 - val_loss: 0.5890 - val_accuracy: 0.8584\n",
      "Epoch 15/100\n",
      "32/32 [==============================] - 0s 2ms/step - loss: 0.5961 - accuracy: 0.8288 - val_loss: 0.5800 - val_accuracy: 0.8630\n",
      "Epoch 16/100\n",
      "32/32 [==============================] - 0s 2ms/step - loss: 0.5876 - accuracy: 0.8356 - val_loss: 0.5705 - val_accuracy: 0.8630\n",
      "Epoch 17/100\n",
      "32/32 [==============================] - 0s 2ms/step - loss: 0.5788 - accuracy: 0.8386 - val_loss: 0.5621 - val_accuracy: 0.8813\n",
      "Epoch 18/100\n",
      "32/32 [==============================] - 0s 2ms/step - loss: 0.5697 - accuracy: 0.8376 - val_loss: 0.5519 - val_accuracy: 0.8858\n",
      "Epoch 19/100\n",
      "32/32 [==============================] - 0s 2ms/step - loss: 0.5606 - accuracy: 0.8386 - val_loss: 0.5423 - val_accuracy: 0.8950\n",
      "Epoch 20/100\n",
      "32/32 [==============================] - 0s 2ms/step - loss: 0.5515 - accuracy: 0.8395 - val_loss: 0.5315 - val_accuracy: 0.8950\n",
      "Epoch 21/100\n",
      "32/32 [==============================] - 0s 2ms/step - loss: 0.5421 - accuracy: 0.8464 - val_loss: 0.5217 - val_accuracy: 0.8950\n",
      "Epoch 22/100\n",
      "32/32 [==============================] - 0s 2ms/step - loss: 0.5327 - accuracy: 0.8464 - val_loss: 0.5108 - val_accuracy: 0.8950\n",
      "Epoch 23/100\n",
      "32/32 [==============================] - 0s 2ms/step - loss: 0.5234 - accuracy: 0.8464 - val_loss: 0.5022 - val_accuracy: 0.8995\n",
      "Epoch 24/100\n",
      "32/32 [==============================] - 0s 2ms/step - loss: 0.5139 - accuracy: 0.8493 - val_loss: 0.4908 - val_accuracy: 0.8995\n",
      "Epoch 25/100\n",
      "32/32 [==============================] - 0s 2ms/step - loss: 0.5043 - accuracy: 0.8503 - val_loss: 0.4804 - val_accuracy: 0.8995\n",
      "Epoch 26/100\n",
      "32/32 [==============================] - 0s 2ms/step - loss: 0.4946 - accuracy: 0.8513 - val_loss: 0.4714 - val_accuracy: 0.8995\n",
      "Epoch 27/100\n",
      "32/32 [==============================] - 0s 2ms/step - loss: 0.4853 - accuracy: 0.8532 - val_loss: 0.4609 - val_accuracy: 0.8995\n",
      "Epoch 28/100\n",
      "32/32 [==============================] - 0s 2ms/step - loss: 0.4756 - accuracy: 0.8532 - val_loss: 0.4516 - val_accuracy: 0.8950\n",
      "Epoch 29/100\n",
      "32/32 [==============================] - 0s 2ms/step - loss: 0.4661 - accuracy: 0.8552 - val_loss: 0.4401 - val_accuracy: 0.8995\n",
      "Epoch 30/100\n",
      "32/32 [==============================] - 0s 2ms/step - loss: 0.4570 - accuracy: 0.8562 - val_loss: 0.4306 - val_accuracy: 0.8950\n",
      "Epoch 31/100\n",
      "32/32 [==============================] - 0s 2ms/step - loss: 0.4481 - accuracy: 0.8552 - val_loss: 0.4217 - val_accuracy: 0.9041\n",
      "Epoch 32/100\n",
      "32/32 [==============================] - 0s 2ms/step - loss: 0.4394 - accuracy: 0.8581 - val_loss: 0.4132 - val_accuracy: 0.8995\n",
      "Epoch 33/100\n",
      "32/32 [==============================] - 0s 2ms/step - loss: 0.4309 - accuracy: 0.8552 - val_loss: 0.4066 - val_accuracy: 0.8995\n",
      "Epoch 34/100\n",
      "32/32 [==============================] - 0s 2ms/step - loss: 0.4234 - accuracy: 0.8581 - val_loss: 0.3954 - val_accuracy: 0.8995\n",
      "Epoch 35/100\n",
      "32/32 [==============================] - 0s 2ms/step - loss: 0.4154 - accuracy: 0.8571 - val_loss: 0.3874 - val_accuracy: 0.8995\n",
      "Epoch 36/100\n",
      "32/32 [==============================] - 0s 2ms/step - loss: 0.4083 - accuracy: 0.8562 - val_loss: 0.3800 - val_accuracy: 0.8950\n",
      "Epoch 37/100\n",
      "32/32 [==============================] - 0s 2ms/step - loss: 0.4012 - accuracy: 0.8581 - val_loss: 0.3704 - val_accuracy: 0.8995\n",
      "Epoch 38/100\n",
      "32/32 [==============================] - 0s 2ms/step - loss: 0.3946 - accuracy: 0.8591 - val_loss: 0.3653 - val_accuracy: 0.8950\n",
      "Epoch 39/100\n",
      "32/32 [==============================] - 0s 2ms/step - loss: 0.3882 - accuracy: 0.8601 - val_loss: 0.3585 - val_accuracy: 0.8950\n",
      "Epoch 40/100\n",
      "32/32 [==============================] - 0s 2ms/step - loss: 0.3822 - accuracy: 0.8571 - val_loss: 0.3510 - val_accuracy: 0.8995\n",
      "Epoch 41/100\n",
      "32/32 [==============================] - 0s 2ms/step - loss: 0.3770 - accuracy: 0.8611 - val_loss: 0.3462 - val_accuracy: 0.8950\n",
      "Epoch 42/100\n",
      "32/32 [==============================] - 0s 2ms/step - loss: 0.3717 - accuracy: 0.8591 - val_loss: 0.3415 - val_accuracy: 0.8950\n",
      "Epoch 43/100\n",
      "32/32 [==============================] - 0s 2ms/step - loss: 0.3673 - accuracy: 0.8581 - val_loss: 0.3376 - val_accuracy: 0.9041\n",
      "Epoch 44/100\n",
      "32/32 [==============================] - 0s 2ms/step - loss: 0.3626 - accuracy: 0.8611 - val_loss: 0.3350 - val_accuracy: 0.9041\n",
      "Epoch 45/100\n",
      "32/32 [==============================] - 0s 2ms/step - loss: 0.3587 - accuracy: 0.8620 - val_loss: 0.3279 - val_accuracy: 0.8995\n",
      "Epoch 46/100\n",
      "32/32 [==============================] - 0s 2ms/step - loss: 0.3548 - accuracy: 0.8581 - val_loss: 0.3217 - val_accuracy: 0.8995\n",
      "Epoch 47/100\n",
      "32/32 [==============================] - 0s 2ms/step - loss: 0.3510 - accuracy: 0.8620 - val_loss: 0.3179 - val_accuracy: 0.8950\n",
      "Epoch 48/100\n",
      "32/32 [==============================] - 0s 2ms/step - loss: 0.3474 - accuracy: 0.8650 - val_loss: 0.3175 - val_accuracy: 0.9041\n",
      "Epoch 49/100\n",
      "32/32 [==============================] - 0s 2ms/step - loss: 0.3442 - accuracy: 0.8650 - val_loss: 0.3114 - val_accuracy: 0.8995\n",
      "Epoch 50/100\n",
      "32/32 [==============================] - 0s 2ms/step - loss: 0.3411 - accuracy: 0.8620 - val_loss: 0.3063 - val_accuracy: 0.8995\n",
      "Epoch 51/100\n",
      "32/32 [==============================] - 0s 2ms/step - loss: 0.3381 - accuracy: 0.8640 - val_loss: 0.3094 - val_accuracy: 0.9041\n",
      "Epoch 52/100\n",
      "32/32 [==============================] - 0s 2ms/step - loss: 0.3352 - accuracy: 0.8620 - val_loss: 0.2998 - val_accuracy: 0.8995\n",
      "Epoch 53/100\n",
      "32/32 [==============================] - 0s 2ms/step - loss: 0.3328 - accuracy: 0.8650 - val_loss: 0.3020 - val_accuracy: 0.8995\n",
      "Epoch 54/100\n",
      "32/32 [==============================] - 0s 2ms/step - loss: 0.3306 - accuracy: 0.8630 - val_loss: 0.2977 - val_accuracy: 0.8995\n",
      "Epoch 55/100\n",
      "32/32 [==============================] - 0s 2ms/step - loss: 0.3278 - accuracy: 0.8659 - val_loss: 0.3016 - val_accuracy: 0.9041\n",
      "Epoch 56/100\n",
      "32/32 [==============================] - 0s 2ms/step - loss: 0.3264 - accuracy: 0.8669 - val_loss: 0.2936 - val_accuracy: 0.8995\n",
      "Epoch 57/100\n",
      "32/32 [==============================] - 0s 2ms/step - loss: 0.3240 - accuracy: 0.8669 - val_loss: 0.2911 - val_accuracy: 0.8995\n",
      "Epoch 58/100\n",
      "32/32 [==============================] - 0s 2ms/step - loss: 0.3218 - accuracy: 0.8669 - val_loss: 0.2909 - val_accuracy: 0.8995\n"
     ]
    },
    {
     "name": "stdout",
     "output_type": "stream",
     "text": [
      "Epoch 59/100\n",
      "32/32 [==============================] - 0s 2ms/step - loss: 0.3204 - accuracy: 0.8708 - val_loss: 0.2880 - val_accuracy: 0.8995\n",
      "Epoch 60/100\n",
      "32/32 [==============================] - 0s 1ms/step - loss: 0.3177 - accuracy: 0.8679 - val_loss: 0.2822 - val_accuracy: 0.8995\n",
      "Epoch 61/100\n",
      "32/32 [==============================] - 0s 2ms/step - loss: 0.3171 - accuracy: 0.8699 - val_loss: 0.2839 - val_accuracy: 0.8995\n",
      "Epoch 62/100\n",
      "32/32 [==============================] - 0s 2ms/step - loss: 0.3148 - accuracy: 0.8708 - val_loss: 0.2827 - val_accuracy: 0.8995\n",
      "Epoch 63/100\n",
      "32/32 [==============================] - 0s 2ms/step - loss: 0.3137 - accuracy: 0.8708 - val_loss: 0.2796 - val_accuracy: 0.8995\n",
      "Epoch 64/100\n",
      "32/32 [==============================] - 0s 2ms/step - loss: 0.3121 - accuracy: 0.8699 - val_loss: 0.2779 - val_accuracy: 0.8950\n",
      "Epoch 65/100\n",
      "32/32 [==============================] - 0s 2ms/step - loss: 0.3104 - accuracy: 0.8718 - val_loss: 0.2826 - val_accuracy: 0.9087\n",
      "Epoch 66/100\n",
      "32/32 [==============================] - 0s 2ms/step - loss: 0.3090 - accuracy: 0.8679 - val_loss: 0.2810 - val_accuracy: 0.9087\n",
      "Epoch 67/100\n",
      "32/32 [==============================] - 0s 2ms/step - loss: 0.3080 - accuracy: 0.8748 - val_loss: 0.2779 - val_accuracy: 0.9041\n",
      "Epoch 68/100\n",
      "32/32 [==============================] - 0s 2ms/step - loss: 0.3066 - accuracy: 0.8718 - val_loss: 0.2730 - val_accuracy: 0.8950\n",
      "Epoch 69/100\n",
      "32/32 [==============================] - 0s 2ms/step - loss: 0.3055 - accuracy: 0.8728 - val_loss: 0.2712 - val_accuracy: 0.8995\n",
      "Epoch 70/100\n",
      "32/32 [==============================] - 0s 2ms/step - loss: 0.3040 - accuracy: 0.8748 - val_loss: 0.2767 - val_accuracy: 0.9087\n",
      "Epoch 71/100\n",
      "32/32 [==============================] - 0s 2ms/step - loss: 0.3026 - accuracy: 0.8777 - val_loss: 0.2699 - val_accuracy: 0.8950\n",
      "Epoch 72/100\n",
      "32/32 [==============================] - 0s 2ms/step - loss: 0.3019 - accuracy: 0.8757 - val_loss: 0.2683 - val_accuracy: 0.9041\n",
      "Epoch 73/100\n",
      "32/32 [==============================] - 0s 2ms/step - loss: 0.3013 - accuracy: 0.8767 - val_loss: 0.2697 - val_accuracy: 0.9041\n",
      "Epoch 74/100\n",
      "32/32 [==============================] - 0s 2ms/step - loss: 0.3000 - accuracy: 0.8767 - val_loss: 0.2723 - val_accuracy: 0.9087\n",
      "Epoch 75/100\n",
      "32/32 [==============================] - 0s 1ms/step - loss: 0.2986 - accuracy: 0.8738 - val_loss: 0.2698 - val_accuracy: 0.9087\n",
      "Epoch 76/100\n",
      "32/32 [==============================] - 0s 2ms/step - loss: 0.2975 - accuracy: 0.8767 - val_loss: 0.2650 - val_accuracy: 0.9041\n",
      "Epoch 77/100\n",
      "32/32 [==============================] - 0s 2ms/step - loss: 0.2971 - accuracy: 0.8767 - val_loss: 0.2645 - val_accuracy: 0.9087\n",
      "Epoch 78/100\n",
      "32/32 [==============================] - 0s 2ms/step - loss: 0.2959 - accuracy: 0.8748 - val_loss: 0.2622 - val_accuracy: 0.8995\n",
      "Epoch 79/100\n",
      "32/32 [==============================] - 0s 2ms/step - loss: 0.2945 - accuracy: 0.8816 - val_loss: 0.2681 - val_accuracy: 0.9087\n",
      "Epoch 80/100\n",
      "32/32 [==============================] - 0s 1ms/step - loss: 0.2943 - accuracy: 0.8757 - val_loss: 0.2672 - val_accuracy: 0.9087\n",
      "Epoch 81/100\n",
      "32/32 [==============================] - 0s 2ms/step - loss: 0.2928 - accuracy: 0.8787 - val_loss: 0.2674 - val_accuracy: 0.9087\n",
      "Epoch 82/100\n",
      "32/32 [==============================] - 0s 2ms/step - loss: 0.2922 - accuracy: 0.8796 - val_loss: 0.2664 - val_accuracy: 0.9087\n",
      "Epoch 83/100\n",
      "32/32 [==============================] - 0s 2ms/step - loss: 0.2908 - accuracy: 0.8826 - val_loss: 0.2644 - val_accuracy: 0.9132\n",
      "Epoch 84/100\n",
      "32/32 [==============================] - 0s 2ms/step - loss: 0.2905 - accuracy: 0.8836 - val_loss: 0.2614 - val_accuracy: 0.9132\n",
      "Epoch 85/100\n",
      "32/32 [==============================] - 0s 2ms/step - loss: 0.2900 - accuracy: 0.8777 - val_loss: 0.2623 - val_accuracy: 0.9132\n",
      "Epoch 86/100\n",
      "32/32 [==============================] - 0s 2ms/step - loss: 0.2891 - accuracy: 0.8796 - val_loss: 0.2601 - val_accuracy: 0.9132\n",
      "Epoch 87/100\n",
      "32/32 [==============================] - 0s 2ms/step - loss: 0.2875 - accuracy: 0.8806 - val_loss: 0.2617 - val_accuracy: 0.9132\n",
      "Epoch 88/100\n",
      "32/32 [==============================] - 0s 2ms/step - loss: 0.2868 - accuracy: 0.8796 - val_loss: 0.2695 - val_accuracy: 0.9132\n",
      "Epoch 89/100\n",
      "32/32 [==============================] - 0s 2ms/step - loss: 0.2869 - accuracy: 0.8836 - val_loss: 0.2610 - val_accuracy: 0.9132\n",
      "Epoch 90/100\n",
      "32/32 [==============================] - 0s 2ms/step - loss: 0.2857 - accuracy: 0.8816 - val_loss: 0.2623 - val_accuracy: 0.9132\n",
      "Epoch 91/100\n",
      "32/32 [==============================] - 0s 2ms/step - loss: 0.2848 - accuracy: 0.8826 - val_loss: 0.2579 - val_accuracy: 0.9132\n",
      "Epoch 92/100\n",
      "32/32 [==============================] - 0s 2ms/step - loss: 0.2841 - accuracy: 0.8806 - val_loss: 0.2605 - val_accuracy: 0.9132\n",
      "Epoch 93/100\n",
      "32/32 [==============================] - 0s 1ms/step - loss: 0.2828 - accuracy: 0.8777 - val_loss: 0.2553 - val_accuracy: 0.9132\n",
      "Epoch 94/100\n",
      "32/32 [==============================] - 0s 2ms/step - loss: 0.2827 - accuracy: 0.8816 - val_loss: 0.2582 - val_accuracy: 0.9132\n",
      "Epoch 95/100\n",
      "32/32 [==============================] - 0s 2ms/step - loss: 0.2822 - accuracy: 0.8796 - val_loss: 0.2585 - val_accuracy: 0.9132\n",
      "Epoch 96/100\n",
      "32/32 [==============================] - 0s 2ms/step - loss: 0.2812 - accuracy: 0.8845 - val_loss: 0.2554 - val_accuracy: 0.9178\n",
      "Epoch 97/100\n",
      "32/32 [==============================] - 0s 2ms/step - loss: 0.2803 - accuracy: 0.8836 - val_loss: 0.2613 - val_accuracy: 0.9178\n",
      "Epoch 98/100\n",
      "32/32 [==============================] - 0s 2ms/step - loss: 0.2804 - accuracy: 0.8826 - val_loss: 0.2587 - val_accuracy: 0.9132\n",
      "Epoch 99/100\n",
      "32/32 [==============================] - 0s 2ms/step - loss: 0.2795 - accuracy: 0.8826 - val_loss: 0.2564 - val_accuracy: 0.9132\n",
      "Epoch 100/100\n",
      "32/32 [==============================] - 0s 1ms/step - loss: 0.2797 - accuracy: 0.8816 - val_loss: 0.2547 - val_accuracy: 0.9178\n"
     ]
    }
   ],
   "source": [
    "hist = model.fit(X_train, Y_train,\n",
    "          batch_size=32, epochs=100,\n",
    "          validation_data=(X_val, Y_val))"
   ]
  },
  {
   "cell_type": "code",
   "execution_count": 13,
   "id": "a25dd577",
   "metadata": {},
   "outputs": [
    {
     "name": "stdout",
     "output_type": "stream",
     "text": [
      "7/7 [==============================] - 0s 906us/step - loss: 0.2925 - accuracy: 0.8950\n"
     ]
    },
    {
     "data": {
      "text/plain": [
       "0.8949771523475647"
      ]
     },
     "execution_count": 13,
     "metadata": {},
     "output_type": "execute_result"
    }
   ],
   "source": [
    "model.evaluate(X_test, Y_test)[1]"
   ]
  },
  {
   "cell_type": "code",
   "execution_count": 14,
   "id": "55580157",
   "metadata": {},
   "outputs": [
    {
     "data": {
      "image/png": "[encoded data removed]",
      "text/plain": [
       "<Figure size 432x288 with 1 Axes>"
      ]
     },
     "metadata": {
      "needs_background": "light"
     },
     "output_type": "display_data"
    }
   ],
   "source": [
    "import matplotlib.pyplot as plt\n",
    "\n",
    "plt.plot(hist.history['loss'])\n",
    "plt.plot(hist.history['val_loss'])\n",
    "plt.title('Model loss')\n",
    "plt.ylabel('Loss')\n",
    "plt.xlabel('Epoch')\n",
    "plt.legend(['Train', 'Val'], loc='upper right')\n",
    "plt.show()"
   ]
  },
  {
   "cell_type": "code",
   "execution_count": 15,
   "id": "4197855a",
   "metadata": {},
   "outputs": [
    {
     "data": {
      "image/png": "[encoded data removed]",
      "text/plain": [
       "<Figure size 432x288 with 1 Axes>"
      ]
     },
     "metadata": {
      "needs_background": "light"
     },
     "output_type": "display_data"
    }
   ],
   "source": [
    "plt.plot(hist.history['accuracy'])\n",
    "plt.plot(hist.history['val_accuracy'])\n",
    "plt.title('Model accuracy')\n",
    "plt.ylabel('Accuracy')\n",
    "plt.xlabel('Epoch')\n",
    "plt.legend(['Train', 'Val'], loc='lower right')\n",
    "plt.show()"
   ]
  },
  {
   "cell_type": "code",
   "execution_count": 16,
   "id": "90ae0b06",
   "metadata": {},
   "outputs": [
    {
     "data": {
      "image/png": "[encoded data removed]",
      "text/plain": [
       "<Figure size 432x288 with 1 Axes>"
      ]
     },
     "metadata": {
      "needs_background": "light"
     },
     "output_type": "display_data"
    }
   ],
   "source": [
    "plt.plot(hist.history['accuracy'])\n",
    "plt.plot(hist.history['val_accuracy'])\n",
    "plt.title('Model accuracy')\n",
    "plt.ylabel('Accuracy')\n",
    "plt.xlabel('Epoch')\n",
    "plt.legend(['Train', 'Val'], loc='lower right')\n",
    "plt.show()"
   ]
  },
  {
   "cell_type": "code",
   "execution_count": 18,
   "id": "2151a0d2",
   "metadata": {},
   "outputs": [
    {
     "data": {
      "image/png": "[encoded data removed]",
      "text/plain": [
       "<Figure size 432x288 with 1 Axes>"
      ]
     },
     "metadata": {
      "needs_background": "light"
     },
     "output_type": "display_data"
    }
   ],
   "source": [
    "plt.plot(hist.history['loss'])\n",
    "plt.plot(hist.history['val_loss'])\n",
    "plt.title('Model loss')\n",
    "plt.ylabel('Loss')\n",
    "plt.xlabel('Epoch')\n",
    "plt.legend(['Train', 'Val'], loc='upper right')\n",
    "plt.show()"
   ]
  },
  {
   "cell_type": "code",
   "execution_count": 20,
   "id": "9cc9953c",
   "metadata": {},
   "outputs": [
    {
     "data": {
      "image/png": "[encoded data removed]",
      "text/plain": [
       "<Figure size 432x288 with 1 Axes>"
      ]
     },
     "metadata": {
      "needs_background": "light"
     },
     "output_type": "display_data"
    }
   ],
   "source": [
    "plt.plot(hist.history['accuracy'])\n",
    "plt.plot(hist.history['val_accuracy'])\n",
    "plt.title('Model accuracy')\n",
    "plt.ylabel('Accuracy')\n",
    "plt.xlabel('Epoch')\n",
    "plt.legend(['Train', 'Val'], loc='lower right')\n",
    "plt.show()"
   ]
  },
  {
   "cell_type": "code",
   "execution_count": 21,
   "id": "1ee419f4",
   "metadata": {},
   "outputs": [],
   "source": [
    "from keras.layers import Dropout\n",
    "from keras import regularizers"
   ]
  },
  {
   "cell_type": "code",
   "execution_count": 22,
   "id": "97fa7ed2",
   "metadata": {},
   "outputs": [],
   "source": [
    "model_3 = Sequential([\n",
    "    Dense(1000, activation='relu', kernel_regularizer=regularizers.l2(0.01), input_shape=(10,)),\n",
    "    Dropout(0.3),\n",
    "    Dense(1000, activation='relu', kernel_regularizer=regularizers.l2(0.01)),\n",
    "    Dropout(0.3),\n",
    "    Dense(1000, activation='relu', kernel_regularizer=regularizers.l2(0.01)),\n",
    "    Dropout(0.3),\n",
    "    Dense(1000, activation='relu', kernel_regularizer=regularizers.l2(0.01)),\n",
    "    Dropout(0.3),\n",
    "    Dense(1, activation='sigmoid', kernel_regularizer=regularizers.l2(0.01)),\n",
    "])"
   ]
  },
  {
   "cell_type": "code",
   "execution_count": 23,
   "id": "ae86df66",
   "metadata": {},
   "outputs": [],
   "source": [
    "model_3.compile(optimizer='adam',\n",
    "              loss='binary_crossentropy',\n",
    "              metrics=['accuracy'])"
   ]
  },
  {
   "cell_type": "code",
   "execution_count": 24,
   "id": "28d2e53a",
   "metadata": {},
   "outputs": [
    {
     "name": "stdout",
     "output_type": "stream",
     "text": [
      "Epoch 1/100\n",
      "32/32 [==============================] - 1s 31ms/step - loss: 14.2427 - accuracy: 0.5871 - val_loss: 3.9289 - val_accuracy: 0.8584\n",
      "Epoch 2/100\n",
      "32/32 [==============================] - 1s 28ms/step - loss: 1.6811 - accuracy: 0.8190 - val_loss: 0.6265 - val_accuracy: 0.8950\n",
      "Epoch 3/100\n",
      "32/32 [==============================] - 1s 25ms/step - loss: 0.5647 - accuracy: 0.8571 - val_loss: 0.4468 - val_accuracy: 0.9087\n",
      "Epoch 4/100\n",
      "32/32 [==============================] - 1s 27ms/step - loss: 0.5082 - accuracy: 0.8562 - val_loss: 0.4792 - val_accuracy: 0.8584\n",
      "Epoch 5/100\n",
      "32/32 [==============================] - 1s 29ms/step - loss: 0.4849 - accuracy: 0.8699 - val_loss: 0.4189 - val_accuracy: 0.8995\n",
      "Epoch 6/100\n",
      "32/32 [==============================] - 1s 25ms/step - loss: 0.4699 - accuracy: 0.8777 - val_loss: 0.5128 - val_accuracy: 0.8539\n",
      "Epoch 7/100\n",
      "32/32 [==============================] - 1s 25ms/step - loss: 0.4874 - accuracy: 0.8777 - val_loss: 0.4794 - val_accuracy: 0.8813\n",
      "Epoch 8/100\n",
      "32/32 [==============================] - 1s 25ms/step - loss: 0.4620 - accuracy: 0.8611 - val_loss: 0.4167 - val_accuracy: 0.9178\n",
      "Epoch 9/100\n",
      "32/32 [==============================] - 1s 25ms/step - loss: 0.5059 - accuracy: 0.8503 - val_loss: 0.5288 - val_accuracy: 0.8539\n",
      "Epoch 10/100\n",
      "32/32 [==============================] - 1s 29ms/step - loss: 0.4913 - accuracy: 0.8640 - val_loss: 0.4269 - val_accuracy: 0.9224\n",
      "Epoch 11/100\n",
      "32/32 [==============================] - 1s 28ms/step - loss: 0.4562 - accuracy: 0.8669 - val_loss: 0.4101 - val_accuracy: 0.8767\n",
      "Epoch 12/100\n",
      "32/32 [==============================] - 1s 26ms/step - loss: 0.4529 - accuracy: 0.8816 - val_loss: 0.4137 - val_accuracy: 0.8813\n",
      "Epoch 13/100\n",
      "32/32 [==============================] - 1s 27ms/step - loss: 0.4684 - accuracy: 0.8738 - val_loss: 0.4231 - val_accuracy: 0.9178\n",
      "Epoch 14/100\n",
      "32/32 [==============================] - 1s 25ms/step - loss: 0.4601 - accuracy: 0.8777 - val_loss: 0.4113 - val_accuracy: 0.9178\n",
      "Epoch 15/100\n",
      "32/32 [==============================] - 1s 27ms/step - loss: 0.4354 - accuracy: 0.8826 - val_loss: 0.4151 - val_accuracy: 0.9087\n",
      "Epoch 16/100\n",
      "32/32 [==============================] - 1s 33ms/step - loss: 0.4669 - accuracy: 0.8650 - val_loss: 0.4306 - val_accuracy: 0.8858\n",
      "Epoch 17/100\n",
      "32/32 [==============================] - 1s 29ms/step - loss: 0.4485 - accuracy: 0.8787 - val_loss: 0.4162 - val_accuracy: 0.9178\n",
      "Epoch 18/100\n",
      "32/32 [==============================] - 1s 27ms/step - loss: 0.4493 - accuracy: 0.8816 - val_loss: 0.4654 - val_accuracy: 0.8676\n",
      "Epoch 19/100\n",
      "32/32 [==============================] - 1s 27ms/step - loss: 0.4517 - accuracy: 0.8689 - val_loss: 0.4125 - val_accuracy: 0.9178\n",
      "Epoch 20/100\n",
      "32/32 [==============================] - 1s 27ms/step - loss: 0.4449 - accuracy: 0.8767 - val_loss: 0.4158 - val_accuracy: 0.9178\n",
      "Epoch 21/100\n",
      "32/32 [==============================] - 1s 27ms/step - loss: 0.4752 - accuracy: 0.8650 - val_loss: 0.4173 - val_accuracy: 0.8950\n",
      "Epoch 22/100\n",
      "32/32 [==============================] - 1s 28ms/step - loss: 0.4492 - accuracy: 0.8855 - val_loss: 0.4079 - val_accuracy: 0.8995\n",
      "Epoch 23/100\n",
      "32/32 [==============================] - 1s 27ms/step - loss: 0.4456 - accuracy: 0.8767 - val_loss: 0.4202 - val_accuracy: 0.9178\n",
      "Epoch 24/100\n",
      "32/32 [==============================] - 1s 26ms/step - loss: 0.4590 - accuracy: 0.8728 - val_loss: 0.4384 - val_accuracy: 0.8995\n",
      "Epoch 25/100\n",
      "32/32 [==============================] - 1s 25ms/step - loss: 0.4759 - accuracy: 0.8601 - val_loss: 0.4541 - val_accuracy: 0.8767\n",
      "Epoch 26/100\n",
      "32/32 [==============================] - 1s 26ms/step - loss: 0.4394 - accuracy: 0.8894 - val_loss: 0.4600 - val_accuracy: 0.8721\n",
      "Epoch 27/100\n",
      "32/32 [==============================] - 1s 26ms/step - loss: 0.4344 - accuracy: 0.8826 - val_loss: 0.4019 - val_accuracy: 0.8950\n",
      "Epoch 28/100\n",
      "32/32 [==============================] - 1s 26ms/step - loss: 0.4733 - accuracy: 0.8620 - val_loss: 0.4070 - val_accuracy: 0.9087\n",
      "Epoch 29/100\n",
      "32/32 [==============================] - 1s 26ms/step - loss: 0.4331 - accuracy: 0.8806 - val_loss: 0.4028 - val_accuracy: 0.9087\n",
      "Epoch 30/100\n",
      "32/32 [==============================] - 1s 25ms/step - loss: 0.4308 - accuracy: 0.8757 - val_loss: 0.4047 - val_accuracy: 0.8995\n",
      "Epoch 31/100\n",
      "32/32 [==============================] - 1s 25ms/step - loss: 0.4498 - accuracy: 0.8718 - val_loss: 0.4202 - val_accuracy: 0.8904\n",
      "Epoch 32/100\n",
      "32/32 [==============================] - 1s 25ms/step - loss: 0.4556 - accuracy: 0.8767 - val_loss: 0.4256 - val_accuracy: 0.9041\n",
      "Epoch 33/100\n",
      "32/32 [==============================] - 1s 30ms/step - loss: 0.4333 - accuracy: 0.8933 - val_loss: 0.3981 - val_accuracy: 0.8950\n",
      "Epoch 34/100\n",
      "32/32 [==============================] - 1s 27ms/step - loss: 0.4433 - accuracy: 0.8669 - val_loss: 0.3986 - val_accuracy: 0.9041\n",
      "Epoch 35/100\n",
      "32/32 [==============================] - 1s 25ms/step - loss: 0.4516 - accuracy: 0.8777 - val_loss: 0.4263 - val_accuracy: 0.9087\n",
      "Epoch 36/100\n",
      "32/32 [==============================] - 1s 26ms/step - loss: 0.4371 - accuracy: 0.8875 - val_loss: 0.4501 - val_accuracy: 0.8767\n",
      "Epoch 37/100\n",
      "32/32 [==============================] - 1s 26ms/step - loss: 0.4474 - accuracy: 0.8806 - val_loss: 0.4297 - val_accuracy: 0.8995\n",
      "Epoch 38/100\n",
      "32/32 [==============================] - 1s 25ms/step - loss: 0.4402 - accuracy: 0.8796 - val_loss: 0.4442 - val_accuracy: 0.8813\n",
      "Epoch 39/100\n",
      "32/32 [==============================] - 1s 27ms/step - loss: 0.4301 - accuracy: 0.8787 - val_loss: 0.4507 - val_accuracy: 0.8721\n",
      "Epoch 40/100\n",
      "32/32 [==============================] - 1s 28ms/step - loss: 0.4352 - accuracy: 0.8855 - val_loss: 0.4204 - val_accuracy: 0.9041\n",
      "Epoch 41/100\n",
      "32/32 [==============================] - 1s 29ms/step - loss: 0.4425 - accuracy: 0.8718 - val_loss: 0.4081 - val_accuracy: 0.9041\n",
      "Epoch 42/100\n",
      "32/32 [==============================] - 1s 27ms/step - loss: 0.4438 - accuracy: 0.8796 - val_loss: 0.4344 - val_accuracy: 0.8950\n",
      "Epoch 43/100\n",
      "32/32 [==============================] - 1s 27ms/step - loss: 0.4368 - accuracy: 0.8757 - val_loss: 0.4061 - val_accuracy: 0.9087\n",
      "Epoch 44/100\n",
      "32/32 [==============================] - 1s 27ms/step - loss: 0.4347 - accuracy: 0.8816 - val_loss: 0.4018 - val_accuracy: 0.8995\n",
      "Epoch 45/100\n",
      "32/32 [==============================] - 1s 28ms/step - loss: 0.4237 - accuracy: 0.8865 - val_loss: 0.4426 - val_accuracy: 0.8858\n",
      "Epoch 46/100\n",
      "32/32 [==============================] - 1s 27ms/step - loss: 0.4630 - accuracy: 0.8787 - val_loss: 0.4124 - val_accuracy: 0.8995\n",
      "Epoch 47/100\n",
      "32/32 [==============================] - 1s 27ms/step - loss: 0.4426 - accuracy: 0.8777 - val_loss: 0.4002 - val_accuracy: 0.9132\n",
      "Epoch 48/100\n",
      "32/32 [==============================] - 1s 25ms/step - loss: 0.4282 - accuracy: 0.8826 - val_loss: 0.4694 - val_accuracy: 0.8584\n",
      "Epoch 49/100\n",
      "32/32 [==============================] - 1s 28ms/step - loss: 0.4323 - accuracy: 0.8806 - val_loss: 0.4038 - val_accuracy: 0.8995\n",
      "Epoch 50/100\n",
      "32/32 [==============================] - 1s 28ms/step - loss: 0.4289 - accuracy: 0.8748 - val_loss: 0.4116 - val_accuracy: 0.9178\n",
      "Epoch 51/100\n",
      "32/32 [==============================] - 1s 32ms/step - loss: 0.4322 - accuracy: 0.8806 - val_loss: 0.4118 - val_accuracy: 0.8904\n",
      "Epoch 52/100\n",
      "32/32 [==============================] - 1s 31ms/step - loss: 0.4485 - accuracy: 0.8640 - val_loss: 0.5037 - val_accuracy: 0.8311\n",
      "Epoch 53/100\n",
      "32/32 [==============================] - 1s 28ms/step - loss: 0.4427 - accuracy: 0.8855 - val_loss: 0.4038 - val_accuracy: 0.8995\n",
      "Epoch 54/100\n",
      "32/32 [==============================] - 1s 27ms/step - loss: 0.4461 - accuracy: 0.8787 - val_loss: 0.4109 - val_accuracy: 0.8950\n",
      "Epoch 55/100\n",
      "32/32 [==============================] - 1s 26ms/step - loss: 0.4307 - accuracy: 0.8875 - val_loss: 0.4563 - val_accuracy: 0.8721\n",
      "Epoch 56/100\n",
      "32/32 [==============================] - 1s 27ms/step - loss: 0.4289 - accuracy: 0.8885 - val_loss: 0.4062 - val_accuracy: 0.9087\n",
      "Epoch 57/100\n",
      "32/32 [==============================] - 1s 31ms/step - loss: 0.4338 - accuracy: 0.8787 - val_loss: 0.4143 - val_accuracy: 0.9087\n",
      "Epoch 58/100\n"
     ]
    },
    {
     "name": "stdout",
     "output_type": "stream",
     "text": [
      "32/32 [==============================] - 1s 28ms/step - loss: 0.4330 - accuracy: 0.8757 - val_loss: 0.4032 - val_accuracy: 0.8995\n",
      "Epoch 59/100\n",
      "32/32 [==============================] - 1s 29ms/step - loss: 0.4495 - accuracy: 0.8767 - val_loss: 0.4018 - val_accuracy: 0.8995\n",
      "Epoch 60/100\n",
      "32/32 [==============================] - 1s 25ms/step - loss: 0.4693 - accuracy: 0.8601 - val_loss: 0.4281 - val_accuracy: 0.8767\n",
      "Epoch 61/100\n",
      "32/32 [==============================] - 1s 27ms/step - loss: 0.4511 - accuracy: 0.8845 - val_loss: 0.4181 - val_accuracy: 0.9087\n",
      "Epoch 62/100\n",
      "32/32 [==============================] - 1s 23ms/step - loss: 0.4225 - accuracy: 0.8826 - val_loss: 0.4449 - val_accuracy: 0.8858\n",
      "Epoch 63/100\n",
      "32/32 [==============================] - 1s 29ms/step - loss: 0.4346 - accuracy: 0.8826 - val_loss: 0.4041 - val_accuracy: 0.9041\n",
      "Epoch 64/100\n",
      "32/32 [==============================] - 1s 32ms/step - loss: 0.4511 - accuracy: 0.8728 - val_loss: 0.4086 - val_accuracy: 0.8995\n",
      "Epoch 65/100\n",
      "32/32 [==============================] - 1s 25ms/step - loss: 0.4350 - accuracy: 0.8806 - val_loss: 0.4162 - val_accuracy: 0.9041\n",
      "Epoch 66/100\n",
      "32/32 [==============================] - 1s 25ms/step - loss: 0.4358 - accuracy: 0.8767 - val_loss: 0.4029 - val_accuracy: 0.8904\n",
      "Epoch 67/100\n",
      "32/32 [==============================] - 1s 25ms/step - loss: 0.4457 - accuracy: 0.8738 - val_loss: 0.4178 - val_accuracy: 0.9087\n",
      "Epoch 68/100\n",
      "32/32 [==============================] - 1s 23ms/step - loss: 0.4416 - accuracy: 0.8836 - val_loss: 0.4011 - val_accuracy: 0.9041\n",
      "Epoch 69/100\n",
      "32/32 [==============================] - 1s 26ms/step - loss: 0.4369 - accuracy: 0.8757 - val_loss: 0.4474 - val_accuracy: 0.8813\n",
      "Epoch 70/100\n",
      "32/32 [==============================] - 1s 24ms/step - loss: 0.4310 - accuracy: 0.8806 - val_loss: 0.4104 - val_accuracy: 0.8858\n",
      "Epoch 71/100\n",
      "32/32 [==============================] - 1s 26ms/step - loss: 0.4339 - accuracy: 0.8806 - val_loss: 0.4109 - val_accuracy: 0.9041\n",
      "Epoch 72/100\n",
      "32/32 [==============================] - 1s 25ms/step - loss: 0.4443 - accuracy: 0.8777 - val_loss: 0.4260 - val_accuracy: 0.8995\n",
      "Epoch 73/100\n",
      "32/32 [==============================] - 1s 24ms/step - loss: 0.4566 - accuracy: 0.8777 - val_loss: 0.4023 - val_accuracy: 0.9041\n",
      "Epoch 74/100\n",
      "32/32 [==============================] - 1s 27ms/step - loss: 0.4298 - accuracy: 0.8816 - val_loss: 0.4102 - val_accuracy: 0.8950\n",
      "Epoch 75/100\n",
      "32/32 [==============================] - 1s 28ms/step - loss: 0.4288 - accuracy: 0.8806 - val_loss: 0.4052 - val_accuracy: 0.9041\n",
      "Epoch 76/100\n",
      "32/32 [==============================] - 1s 27ms/step - loss: 0.4364 - accuracy: 0.8708 - val_loss: 0.5432 - val_accuracy: 0.8037\n",
      "Epoch 77/100\n",
      "32/32 [==============================] - 1s 28ms/step - loss: 0.4609 - accuracy: 0.8728 - val_loss: 0.4697 - val_accuracy: 0.8630\n",
      "Epoch 78/100\n",
      "32/32 [==============================] - 1s 26ms/step - loss: 0.4273 - accuracy: 0.8806 - val_loss: 0.4524 - val_accuracy: 0.8721\n",
      "Epoch 79/100\n",
      "32/32 [==============================] - 1s 25ms/step - loss: 0.4270 - accuracy: 0.8865 - val_loss: 0.4012 - val_accuracy: 0.8950\n",
      "Epoch 80/100\n",
      "32/32 [==============================] - 1s 28ms/step - loss: 0.4406 - accuracy: 0.8757 - val_loss: 0.4461 - val_accuracy: 0.8858\n",
      "Epoch 81/100\n",
      "32/32 [==============================] - 1s 28ms/step - loss: 0.4340 - accuracy: 0.8865 - val_loss: 0.4038 - val_accuracy: 0.8950\n",
      "Epoch 82/100\n",
      "32/32 [==============================] - 1s 23ms/step - loss: 0.4356 - accuracy: 0.8806 - val_loss: 0.4555 - val_accuracy: 0.8813\n",
      "Epoch 83/100\n",
      "32/32 [==============================] - 1s 22ms/step - loss: 0.4462 - accuracy: 0.8699 - val_loss: 0.4014 - val_accuracy: 0.9041\n",
      "Epoch 84/100\n",
      "32/32 [==============================] - 1s 27ms/step - loss: 0.4107 - accuracy: 0.8894 - val_loss: 0.4265 - val_accuracy: 0.8995\n",
      "Epoch 85/100\n",
      "32/32 [==============================] - 1s 22ms/step - loss: 0.4406 - accuracy: 0.8718 - val_loss: 0.4025 - val_accuracy: 0.9041\n",
      "Epoch 86/100\n",
      "32/32 [==============================] - 1s 27ms/step - loss: 0.4648 - accuracy: 0.8699 - val_loss: 0.4995 - val_accuracy: 0.8402\n",
      "Epoch 87/100\n",
      "32/32 [==============================] - 1s 26ms/step - loss: 0.4389 - accuracy: 0.8826 - val_loss: 0.4065 - val_accuracy: 0.8904\n",
      "Epoch 88/100\n",
      "32/32 [==============================] - 1s 31ms/step - loss: 0.4694 - accuracy: 0.8669 - val_loss: 0.4207 - val_accuracy: 0.9178\n",
      "Epoch 89/100\n",
      "32/32 [==============================] - 1s 28ms/step - loss: 0.4331 - accuracy: 0.8787 - val_loss: 0.4253 - val_accuracy: 0.8995\n",
      "Epoch 90/100\n",
      "32/32 [==============================] - 1s 31ms/step - loss: 0.4295 - accuracy: 0.8885 - val_loss: 0.4024 - val_accuracy: 0.8950\n",
      "Epoch 91/100\n",
      "32/32 [==============================] - 1s 29ms/step - loss: 0.4319 - accuracy: 0.8767 - val_loss: 0.4010 - val_accuracy: 0.9041\n",
      "Epoch 92/100\n",
      "32/32 [==============================] - 1s 27ms/step - loss: 0.4427 - accuracy: 0.8767 - val_loss: 0.4888 - val_accuracy: 0.8402\n",
      "Epoch 93/100\n",
      "32/32 [==============================] - 1s 28ms/step - loss: 0.4381 - accuracy: 0.8728 - val_loss: 0.4050 - val_accuracy: 0.8904\n",
      "Epoch 94/100\n",
      "32/32 [==============================] - 1s 26ms/step - loss: 0.4369 - accuracy: 0.8816 - val_loss: 0.4060 - val_accuracy: 0.8995\n",
      "Epoch 95/100\n",
      "32/32 [==============================] - 1s 33ms/step - loss: 0.4286 - accuracy: 0.8777 - val_loss: 0.4287 - val_accuracy: 0.8950\n",
      "Epoch 96/100\n",
      "32/32 [==============================] - 1s 27ms/step - loss: 0.4220 - accuracy: 0.8787 - val_loss: 0.4062 - val_accuracy: 0.8950\n",
      "Epoch 97/100\n",
      "32/32 [==============================] - 1s 27ms/step - loss: 0.4245 - accuracy: 0.8777 - val_loss: 0.4759 - val_accuracy: 0.8584\n",
      "Epoch 98/100\n",
      "32/32 [==============================] - 1s 28ms/step - loss: 0.4275 - accuracy: 0.8826 - val_loss: 0.4235 - val_accuracy: 0.9041\n",
      "Epoch 99/100\n",
      "32/32 [==============================] - 1s 29ms/step - loss: 0.4459 - accuracy: 0.8806 - val_loss: 0.4196 - val_accuracy: 0.9041\n",
      "Epoch 100/100\n",
      "32/32 [==============================] - 1s 26ms/step - loss: 0.4248 - accuracy: 0.8875 - val_loss: 0.4018 - val_accuracy: 0.8950\n"
     ]
    }
   ],
   "source": [
    "hist_3 = model_3.fit(X_train, Y_train,\n",
    "          batch_size=32, epochs=100,\n",
    "          validation_data=(X_val, Y_val))"
   ]
  },
  {
   "cell_type": "code",
   "execution_count": 25,
   "id": "76d7ce97",
   "metadata": {},
   "outputs": [
    {
     "data": {
      "image/png": "[encoded data removed]",
      "text/plain": [
       "<Figure size 432x288 with 1 Axes>"
      ]
     },
     "metadata": {
      "needs_background": "light"
     },
     "output_type": "display_data"
    }
   ],
   "source": [
    "plt.plot(hist_3.history['loss'])\n",
    "plt.plot(hist_3.history['val_loss'])\n",
    "plt.title('Model loss')\n",
    "plt.ylabel('Loss')\n",
    "plt.xlabel('Epoch')\n",
    "plt.legend(['Train', 'Val'], loc='upper right')\n",
    "plt.ylim(top=1.2, bottom=0)\n",
    "plt.show()"
   ]
  },
  {
   "cell_type": "code",
   "execution_count": 26,
   "id": "63f419f3",
   "metadata": {},
   "outputs": [
    {
     "data": {
      "image/png": "[encoded data removed]",
      "text/plain": [
       "<Figure size 432x288 with 1 Axes>"
      ]
     },
     "metadata": {
      "needs_background": "light"
     },
     "output_type": "display_data"
    }
   ],
   "source": [
    "plt.plot(hist_3.history['accuracy'])\n",
    "plt.plot(hist_3.history['val_accuracy'])\n",
    "plt.title('Model accuracy')\n",
    "plt.ylabel('Accuracy')\n",
    "plt.xlabel('Epoch')\n",
    "plt.legend(['Train', 'Val'], loc='lower right')\n",
    "plt.show()"
   ]
  },
  {
   "cell_type": "code",
   "execution_count": null,
   "id": "4bf62d89",
   "metadata": {},
   "outputs": [],
   "source": []
  }
 ],
 "metadata": {
  "kernelspec": {
   "display_name": "Python 3 (ipykernel)",
   "language": "python",
   "name": "python3"
  },
  "language_info": {
   "codemirror_mode": {
    "name": "ipython",
    "version": 3
   },
   "file_extension": ".py",
   "mimetype": "text/x-python",
   "name": "python",
   "nbconvert_exporter": "python",
   "pygments_lexer": "ipython3",
   "version": "3.9.7"
  }
 },
 "nbformat": 4,
 "nbformat_minor": 5
}
